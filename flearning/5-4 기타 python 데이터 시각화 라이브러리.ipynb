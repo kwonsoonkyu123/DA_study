{
 "cells": [
  {
   "cell_type": "markdown",
   "metadata": {},
   "source": [
    "# Seaborn\n",
    "- matplotlib을 기반으로, matplotlib은 90년대 만들어짐\n",
    "- matplotlib과 사용법이 비슷\n",
    "- http://stanford.edu/~mwaskom/software/seaborn/index.html"
   ]
  },
  {
   "cell_type": "markdown",
   "metadata": {},
   "source": [
    "# Bokeh\n",
    "- 웹 브라우저상에서의 시각화에 효과적, 인터랙티브하게 사용 가능\n",
    "- matplotlib과 사용법 유사, IPython Notebook과 호환 good\n",
    "- http://bokeh.pydata.org/en/latest/index.html"
   ]
  },
  {
   "cell_type": "markdown",
   "metadata": {},
   "source": [
    "# Folium\n",
    "- 지리적 데이터 시각화에 특화\n",
    "- 지도 데이터 사용 위해 선행되어야 하는 작업이 최소화 되어있음\n",
    "- https://github.com/python-visualization/folium"
   ]
  },
  {
   "cell_type": "code",
   "execution_count": null,
   "metadata": {},
   "outputs": [],
   "source": []
  }
 ],
 "metadata": {
  "kernelspec": {
   "display_name": "Python 3",
   "language": "python",
   "name": "python3"
  },
  "language_info": {
   "codemirror_mode": {
    "name": "ipython",
    "version": 3
   },
   "file_extension": ".py",
   "mimetype": "text/x-python",
   "name": "python",
   "nbconvert_exporter": "python",
   "pygments_lexer": "ipython3",
   "version": "3.6.4"
  }
 },
 "nbformat": 4,
 "nbformat_minor": 2
}
