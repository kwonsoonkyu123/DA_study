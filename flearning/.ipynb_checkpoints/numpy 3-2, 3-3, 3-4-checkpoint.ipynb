{
 "cells": [
  {
   "cell_type": "code",
   "execution_count": 1,
   "metadata": {},
   "outputs": [],
   "source": [
    "import numpy as np"
   ]
  },
  {
   "cell_type": "code",
   "execution_count": 2,
   "metadata": {},
   "outputs": [],
   "source": [
    "arr = np.arange(10)"
   ]
  },
  {
   "cell_type": "code",
   "execution_count": 3,
   "metadata": {},
   "outputs": [
    {
     "data": {
      "text/plain": [
       "array([0, 1, 2, 3, 4, 5, 6, 7, 8, 9])"
      ]
     },
     "execution_count": 3,
     "metadata": {},
     "output_type": "execute_result"
    }
   ],
   "source": [
    "arr"
   ]
  },
  {
   "cell_type": "code",
   "execution_count": 4,
   "metadata": {},
   "outputs": [
    {
     "data": {
      "text/plain": [
       "5"
      ]
     },
     "execution_count": 4,
     "metadata": {},
     "output_type": "execute_result"
    }
   ],
   "source": [
    "arr[5]"
   ]
  },
  {
   "cell_type": "code",
   "execution_count": 5,
   "metadata": {},
   "outputs": [
    {
     "data": {
      "text/plain": [
       "array([5, 6, 7])"
      ]
     },
     "execution_count": 5,
     "metadata": {},
     "output_type": "execute_result"
    }
   ],
   "source": [
    "arr[5:8]"
   ]
  },
  {
   "cell_type": "code",
   "execution_count": 7,
   "metadata": {},
   "outputs": [],
   "source": [
    "arr2d = np.array([[1,2,3,4],\n",
    "                [5,6,7,8],\n",
    "                [9,10,11,12],\n",
    "                [13,14,15,16]])"
   ]
  },
  {
   "cell_type": "code",
   "execution_count": 8,
   "metadata": {},
   "outputs": [
    {
     "data": {
      "text/plain": [
       "array([[ 1,  2,  3,  4],\n",
       "       [ 5,  6,  7,  8],\n",
       "       [ 9, 10, 11, 12],\n",
       "       [13, 14, 15, 16]])"
      ]
     },
     "execution_count": 8,
     "metadata": {},
     "output_type": "execute_result"
    }
   ],
   "source": [
    "arr2d"
   ]
  },
  {
   "cell_type": "code",
   "execution_count": 9,
   "metadata": {},
   "outputs": [
    {
     "data": {
      "text/plain": [
       "array([ 9, 10, 11, 12])"
      ]
     },
     "execution_count": 9,
     "metadata": {},
     "output_type": "execute_result"
    }
   ],
   "source": [
    "arr2d[2,]"
   ]
  },
  {
   "cell_type": "code",
   "execution_count": 10,
   "metadata": {},
   "outputs": [],
   "source": [
    "arr = np.random.randn(5,4)"
   ]
  },
  {
   "cell_type": "code",
   "execution_count": 11,
   "metadata": {},
   "outputs": [
    {
     "data": {
      "text/plain": [
       "3.5253331252303366"
      ]
     },
     "execution_count": 11,
     "metadata": {},
     "output_type": "execute_result"
    }
   ],
   "source": [
    "arr.sum()"
   ]
  },
  {
   "cell_type": "code",
   "execution_count": 12,
   "metadata": {},
   "outputs": [
    {
     "data": {
      "text/plain": [
       "0.17626665626151683"
      ]
     },
     "execution_count": 12,
     "metadata": {},
     "output_type": "execute_result"
    }
   ],
   "source": [
    "arr.mean()"
   ]
  },
  {
   "cell_type": "code",
   "execution_count": 13,
   "metadata": {},
   "outputs": [
    {
     "data": {
      "text/plain": [
       "array([0.94210402, 0.7344234 , 0.57667057, 1.27213513])"
      ]
     },
     "execution_count": 13,
     "metadata": {},
     "output_type": "execute_result"
    }
   ],
   "source": [
    "arr.sum(axis=0)"
   ]
  },
  {
   "cell_type": "code",
   "execution_count": 14,
   "metadata": {},
   "outputs": [
    {
     "data": {
      "text/plain": [
       "array([ 1.03392727,  1.0445319 , -2.55566499,  0.16574848,  3.83679046])"
      ]
     },
     "execution_count": 14,
     "metadata": {},
     "output_type": "execute_result"
    }
   ],
   "source": [
    "arr.sum(axis=1)"
   ]
  },
  {
   "cell_type": "code",
   "execution_count": 16,
   "metadata": {},
   "outputs": [
    {
     "data": {
      "text/plain": [
       "array([[ True, False, False,  True],\n",
       "       [False,  True,  True, False],\n",
       "       [False,  True, False, False],\n",
       "       [False, False,  True,  True],\n",
       "       [ True,  True,  True,  True]])"
      ]
     },
     "execution_count": 16,
     "metadata": {},
     "output_type": "execute_result"
    }
   ],
   "source": [
    " arr > 0"
   ]
  },
  {
   "cell_type": "code",
   "execution_count": 17,
   "metadata": {},
   "outputs": [
    {
     "data": {
      "text/plain": [
       "11"
      ]
     },
     "execution_count": 17,
     "metadata": {},
     "output_type": "execute_result"
    }
   ],
   "source": [
    "(arr > 0).sum()"
   ]
  },
  {
   "cell_type": "code",
   "execution_count": 18,
   "metadata": {},
   "outputs": [],
   "source": [
    "arr = np.random.randn(8)"
   ]
  },
  {
   "cell_type": "code",
   "execution_count": 19,
   "metadata": {},
   "outputs": [
    {
     "data": {
      "text/plain": [
       "array([ 0.88741695,  0.45508876, -0.40268313, -1.60570851,  0.45487212,\n",
       "       -0.79813374, -1.28750604, -0.52411138])"
      ]
     },
     "execution_count": 19,
     "metadata": {},
     "output_type": "execute_result"
    }
   ],
   "source": [
    "arr"
   ]
  },
  {
   "cell_type": "code",
   "execution_count": 20,
   "metadata": {},
   "outputs": [
    {
     "data": {
      "text/plain": [
       "array([-1.60570851, -1.28750604, -0.79813374, -0.52411138, -0.40268313,\n",
       "        0.45487212,  0.45508876,  0.88741695])"
      ]
     },
     "execution_count": 20,
     "metadata": {},
     "output_type": "execute_result"
    }
   ],
   "source": [
    "np.sort(arr)"
   ]
  },
  {
   "cell_type": "code",
   "execution_count": 22,
   "metadata": {},
   "outputs": [
    {
     "data": {
      "text/plain": [
       "array([ 0.88741695,  0.45508876,  0.45487212, -0.40268313, -0.52411138,\n",
       "       -0.79813374, -1.28750604, -1.60570851])"
      ]
     },
     "execution_count": 22,
     "metadata": {},
     "output_type": "execute_result"
    }
   ],
   "source": [
    "np.sort(arr)[::-1]"
   ]
  },
  {
   "cell_type": "code",
   "execution_count": 23,
   "metadata": {},
   "outputs": [],
   "source": [
    "arr = np.random.randn(5, 3)"
   ]
  },
  {
   "cell_type": "code",
   "execution_count": 24,
   "metadata": {},
   "outputs": [
    {
     "data": {
      "text/plain": [
       "array([[ 2.06388064,  0.21121122, -0.96937379],\n",
       "       [ 1.88413122, -1.37993132,  1.26130278],\n",
       "       [-0.67234765,  0.05828055, -0.96959401],\n",
       "       [ 0.23751401,  0.39483182, -0.08041043],\n",
       "       [-0.43184289,  1.43534079, -0.47670198]])"
      ]
     },
     "execution_count": 24,
     "metadata": {},
     "output_type": "execute_result"
    }
   ],
   "source": [
    "arr"
   ]
  },
  {
   "cell_type": "code",
   "execution_count": 25,
   "metadata": {},
   "outputs": [
    {
     "data": {
      "text/plain": [
       "array([[-0.67234765, -1.37993132, -0.96959401],\n",
       "       [-0.43184289,  0.05828055, -0.96937379],\n",
       "       [ 0.23751401,  0.21121122, -0.47670198],\n",
       "       [ 1.88413122,  0.39483182, -0.08041043],\n",
       "       [ 2.06388064,  1.43534079,  1.26130278]])"
      ]
     },
     "execution_count": 25,
     "metadata": {},
     "output_type": "execute_result"
    }
   ],
   "source": [
    "np.sort(arr, axis=0)"
   ]
  },
  {
   "cell_type": "code",
   "execution_count": 26,
   "metadata": {},
   "outputs": [
    {
     "data": {
      "text/plain": [
       "array([[-0.96937379,  0.21121122,  2.06388064],\n",
       "       [-1.37993132,  1.26130278,  1.88413122],\n",
       "       [-0.96959401, -0.67234765,  0.05828055],\n",
       "       [-0.08041043,  0.23751401,  0.39483182],\n",
       "       [-0.47670198, -0.43184289,  1.43534079]])"
      ]
     },
     "execution_count": 26,
     "metadata": {},
     "output_type": "execute_result"
    }
   ],
   "source": [
    " np.sort(arr)"
   ]
  },
  {
   "cell_type": "code",
   "execution_count": 27,
   "metadata": {},
   "outputs": [
    {
     "data": {
      "text/plain": [
       "array([[-0.96937379,  0.21121122,  2.06388064],\n",
       "       [-1.37993132,  1.26130278,  1.88413122],\n",
       "       [-0.96959401, -0.67234765,  0.05828055],\n",
       "       [-0.08041043,  0.23751401,  0.39483182],\n",
       "       [-0.47670198, -0.43184289,  1.43534079]])"
      ]
     },
     "execution_count": 27,
     "metadata": {},
     "output_type": "execute_result"
    }
   ],
   "source": [
    "np.sort(arr, axis=1)"
   ]
  },
  {
   "cell_type": "code",
   "execution_count": 29,
   "metadata": {},
   "outputs": [],
   "source": [
    "large_arr = np.random.randn(150)"
   ]
  },
  {
   "cell_type": "code",
   "execution_count": 31,
   "metadata": {},
   "outputs": [
    {
     "data": {
      "text/plain": [
       "array([-2.36766314e+00, -2.31694655e+00, -2.09993178e+00, -1.96163309e+00,\n",
       "       -1.96129156e+00, -1.90546366e+00, -1.84189464e+00, -1.74237305e+00,\n",
       "       -1.68351291e+00, -1.67470074e+00, -1.58680418e+00, -1.47538986e+00,\n",
       "       -1.46209141e+00, -1.46050922e+00, -1.41650478e+00, -1.36573894e+00,\n",
       "       -1.35233786e+00, -1.32518715e+00, -1.30666868e+00, -1.27517010e+00,\n",
       "       -1.17996132e+00, -1.14536072e+00, -1.13049819e+00, -1.12659298e+00,\n",
       "       -1.11099191e+00, -1.07669486e+00, -1.05683523e+00, -1.02417008e+00,\n",
       "       -1.01866632e+00, -1.00386572e+00, -9.94566019e-01, -9.76262309e-01,\n",
       "       -9.54728154e-01, -9.17095106e-01, -8.67110270e-01, -8.66674624e-01,\n",
       "       -8.41919311e-01, -8.28349725e-01, -8.17034667e-01, -7.46566183e-01,\n",
       "       -7.46449806e-01, -7.29257088e-01, -7.18559590e-01, -6.99888736e-01,\n",
       "       -6.76416687e-01, -5.93575564e-01, -5.69821571e-01, -5.55924661e-01,\n",
       "       -5.47338632e-01, -5.46988479e-01, -5.29946775e-01, -5.24035992e-01,\n",
       "       -5.01072723e-01, -4.89643512e-01, -4.88297466e-01, -4.77059070e-01,\n",
       "       -4.72460724e-01, -4.72212374e-01, -4.55546591e-01, -4.18620575e-01,\n",
       "       -3.96284005e-01, -3.95713972e-01, -3.78729099e-01, -3.43526121e-01,\n",
       "       -3.37726524e-01, -3.25161802e-01, -3.05915311e-01, -3.02859772e-01,\n",
       "       -2.54408670e-01, -2.29603369e-01, -2.20870094e-01, -1.91758098e-01,\n",
       "       -1.87376787e-01, -1.86881599e-01, -1.57768264e-01, -1.56264596e-01,\n",
       "       -1.46418050e-01, -1.17112915e-01, -1.15804222e-01, -1.04833781e-01,\n",
       "       -7.23782760e-02, -7.13186848e-02, -1.12511543e-03,  2.94630292e-02,\n",
       "        3.44627443e-02,  4.35702242e-02,  9.24487226e-02,  1.39663407e-01,\n",
       "        1.63617972e-01,  2.10005112e-01,  2.36628528e-01,  2.39778569e-01,\n",
       "        2.49684872e-01,  2.55845516e-01,  3.02302541e-01,  3.54605509e-01,\n",
       "        3.83421175e-01,  3.92891114e-01,  3.98610248e-01,  4.02549384e-01,\n",
       "        4.65317660e-01,  4.65927144e-01,  4.80266116e-01,  4.82092470e-01,\n",
       "        4.83643948e-01,  4.85687087e-01,  4.86170867e-01,  4.92836865e-01,\n",
       "        4.98210626e-01,  5.22838649e-01,  5.32004178e-01,  5.44243558e-01,\n",
       "        5.57026577e-01,  5.64988103e-01,  5.74792845e-01,  5.86591618e-01,\n",
       "        6.15012936e-01,  6.24635034e-01,  6.90481382e-01,  7.54191185e-01,\n",
       "        7.61355880e-01,  7.97985086e-01,  8.18122644e-01,  9.31420422e-01,\n",
       "        9.34188421e-01,  9.57191465e-01,  9.79367779e-01,  9.79952170e-01,\n",
       "        9.88082477e-01,  1.05101846e+00,  1.06325061e+00,  1.08568639e+00,\n",
       "        1.10718378e+00,  1.17558595e+00,  1.18123898e+00,  1.30875559e+00,\n",
       "        1.40929799e+00,  1.41317258e+00,  1.53534620e+00,  1.53634513e+00,\n",
       "        1.55882523e+00,  1.57540634e+00,  1.73645457e+00,  1.73676385e+00,\n",
       "        1.82203680e+00,  1.84589559e+00,  1.91619427e+00,  2.25795531e+00,\n",
       "        2.29701111e+00,  2.50662471e+00])"
      ]
     },
     "execution_count": 31,
     "metadata": {},
     "output_type": "execute_result"
    }
   ],
   "source": [
    "np.sort(large_arr)"
   ]
  },
  {
   "cell_type": "code",
   "execution_count": 32,
   "metadata": {},
   "outputs": [
    {
     "data": {
      "text/plain": [
       "1.7364545732814307"
      ]
     },
     "execution_count": 32,
     "metadata": {},
     "output_type": "execute_result"
    }
   ],
   "source": [
    "np.sort(large_arr)[::-1][int(0.05 * len(large_arr))]"
   ]
  },
  {
   "cell_type": "code",
   "execution_count": 33,
   "metadata": {},
   "outputs": [
    {
     "data": {
      "text/plain": [
       "array([[ 2.06388064,  0.21121122, -0.96937379],\n",
       "       [ 1.88413122, -1.37993132,  1.26130278],\n",
       "       [-0.67234765,  0.05828055, -0.96959401],\n",
       "       [ 0.23751401,  0.39483182, -0.08041043],\n",
       "       [-0.43184289,  1.43534079, -0.47670198]])"
      ]
     },
     "execution_count": 33,
     "metadata": {},
     "output_type": "execute_result"
    }
   ],
   "source": [
    "arr"
   ]
  },
  {
   "cell_type": "code",
   "execution_count": 36,
   "metadata": {},
   "outputs": [
    {
     "data": {
      "text/plain": [
       "array([-1.37993132,  0.05828055,  0.21121122,  0.39483182,  1.43534079])"
      ]
     },
     "execution_count": 36,
     "metadata": {},
     "output_type": "execute_result"
    }
   ],
   "source": [
    "np.sort(arr[:,1])"
   ]
  },
  {
   "cell_type": "code",
   "execution_count": 37,
   "metadata": {},
   "outputs": [
    {
     "data": {
      "text/plain": [
       "'C:\\\\Users\\\\neroc\\\\Data Analysis\\\\flearning'"
      ]
     },
     "execution_count": 37,
     "metadata": {},
     "output_type": "execute_result"
    }
   ],
   "source": [
    "import os\n",
    "os.getcwd()"
   ]
  },
  {
   "cell_type": "code",
   "execution_count": 39,
   "metadata": {},
   "outputs": [],
   "source": [
    "# user_id::item_id::rating::timestamp\n",
    "data = np.loadtxt(\"movielens-1m/movielens-1m/ratings.dat\", delimiter = \"::\", dtype = np.int64)"
   ]
  },
  {
   "cell_type": "code",
   "execution_count": 43,
   "metadata": {},
   "outputs": [
    {
     "data": {
      "text/plain": [
       "array([[        1,      1193,         5, 978300760],\n",
       "       [        1,       661,         3, 978302109],\n",
       "       [        1,       914,         3, 978301968],\n",
       "       [        1,      3408,         4, 978300275],\n",
       "       [        1,      2355,         5, 978824291]], dtype=int64)"
      ]
     },
     "execution_count": 43,
     "metadata": {},
     "output_type": "execute_result"
    }
   ],
   "source": [
    "data[:5,:]"
   ]
  },
  {
   "cell_type": "code",
   "execution_count": 45,
   "metadata": {},
   "outputs": [
    {
     "data": {
      "text/plain": [
       "(1000209, 4)"
      ]
     },
     "execution_count": 45,
     "metadata": {},
     "output_type": "execute_result"
    }
   ],
   "source": [
    "data.shape"
   ]
  },
  {
   "cell_type": "code",
   "execution_count": 46,
   "metadata": {},
   "outputs": [],
   "source": [
    " # 전체 평균 평점 계산하기\n",
    "mean_rating_total = data[:, 2].mean()"
   ]
  },
  {
   "cell_type": "code",
   "execution_count": 47,
   "metadata": {},
   "outputs": [
    {
     "data": {
      "text/plain": [
       "3.581564453029317"
      ]
     },
     "execution_count": 47,
     "metadata": {},
     "output_type": "execute_result"
    }
   ],
   "source": [
    "mean_rating_total"
   ]
  },
  {
   "cell_type": "code",
   "execution_count": 48,
   "metadata": {},
   "outputs": [],
   "source": [
    "#각 사용자 별 평균 평점 계산하기\n",
    "user_ids = np.unique(data[:,0])"
   ]
  },
  {
   "cell_type": "code",
   "execution_count": 49,
   "metadata": {},
   "outputs": [
    {
     "data": {
      "text/plain": [
       "array([   1,    2,    3, ..., 6038, 6039, 6040], dtype=int64)"
      ]
     },
     "execution_count": 49,
     "metadata": {},
     "output_type": "execute_result"
    }
   ],
   "source": [
    "user_ids"
   ]
  },
  {
   "cell_type": "code",
   "execution_count": 51,
   "metadata": {},
   "outputs": [],
   "source": [
    "mean_rating_by_user_list = []\n",
    "for user_id in user_ids:\n",
    "    data_for_user = data[data[:,0] == user_id, :]\n",
    "    mean_rating_for_user = data_for_user[:,2].mean()\n",
    "    mean_rating_by_user_list.append([user_id, mean_rating_for_user])"
   ]
  },
  {
   "cell_type": "code",
   "execution_count": 52,
   "metadata": {},
   "outputs": [
    {
     "data": {
      "text/plain": [
       "[[1, 4.188679245283019],\n",
       " [2, 3.7131782945736433],\n",
       " [3, 3.9019607843137254],\n",
       " [4, 4.190476190476191],\n",
       " [5, 3.1464646464646466]]"
      ]
     },
     "execution_count": 52,
     "metadata": {},
     "output_type": "execute_result"
    }
   ],
   "source": [
    "mean_rating_by_user_list[:5]"
   ]
  },
  {
   "cell_type": "code",
   "execution_count": 53,
   "metadata": {},
   "outputs": [],
   "source": [
    "mean_rating_by_user_array = np.array(mean_rating_by_user_list, dtype=np.float32)"
   ]
  },
  {
   "cell_type": "code",
   "execution_count": 54,
   "metadata": {},
   "outputs": [
    {
     "data": {
      "text/plain": [
       "array([[1.       , 4.188679 ],\n",
       "       [2.       , 3.7131784],\n",
       "       [3.       , 3.9019608],\n",
       "       [4.       , 4.1904764],\n",
       "       [5.       , 3.1464646]], dtype=float32)"
      ]
     },
     "execution_count": 54,
     "metadata": {},
     "output_type": "execute_result"
    }
   ],
   "source": [
    "mean_rating_by_user_array[:5]"
   ]
  },
  {
   "cell_type": "code",
   "execution_count": 55,
   "metadata": {},
   "outputs": [],
   "source": [
    "np.savetxt(\"movielens-1m/movielens-1m/mean_rating_by_user.csv\", mean_rating_by_user_array, fmt=\"%.3f\", delimiter = \",\")"
   ]
  },
  {
   "cell_type": "code",
   "execution_count": null,
   "metadata": {},
   "outputs": [],
   "source": []
  }
 ],
 "metadata": {
  "kernelspec": {
   "display_name": "Python 3",
   "language": "python",
   "name": "python3"
  },
  "language_info": {
   "codemirror_mode": {
    "name": "ipython",
    "version": 3
   },
   "file_extension": ".py",
   "mimetype": "text/x-python",
   "name": "python",
   "nbconvert_exporter": "python",
   "pygments_lexer": "ipython3",
   "version": "3.5.5"
  }
 },
 "nbformat": 4,
 "nbformat_minor": 2
}
